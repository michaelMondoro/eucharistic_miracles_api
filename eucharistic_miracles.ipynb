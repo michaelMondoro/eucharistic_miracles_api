{
 "cells": [
  {
   "cell_type": "code",
   "execution_count": 7,
   "id": "539a9558",
   "metadata": {},
   "outputs": [],
   "source": [
    "import requests\n",
    "from bs4 import BeautifulSoup\n",
    "\n",
    "# soup.find_all('tag', {'class':'classname'})"
   ]
  },
  {
   "cell_type": "code",
   "execution_count": 50,
   "id": "008a6abc",
   "metadata": {},
   "outputs": [],
   "source": [
    "# Get page with miracles list\n",
    "page = requests.get('http://www.miracolieucaristici.org/en/Liste/list.html')\n",
    "\n",
    "# Soupify\n",
    "soup = BeautifulSoup(page.text, 'html.parser')\n",
    "\n",
    "# Get each section of page related to group of miracles (eg. by country)\n",
    "sections = soup.find_all('div',{'class':'crp'})\n",
    "\n",
    "# Get all links to miracle pages\n",
    "links = soup.find_all('a',{'class':'ac'})\n",
    "\n",
    "data = {}\n",
    "\n",
    "def get_links(section):\n",
    "    country = section.text\n",
    "    data[country] = {}\n",
    "    for link in section.find_all('a',{'class':'ac'}):\n",
    "        split = link.text.split(', ')\n",
    "        if len(split) > 1:\n",
    "            city, date = split[0], split[1]\n",
    "        else:\n",
    "            city, date = split[0], None\n",
    "        data[country]['url'] = \"http://www.miracolieucaristici.org/en/Liste/\"+link.get('href')\n",
    "        data[country]['city'] = city\n",
    "        data[country]['date'] = date\n",
    "        \n",
    "sections = sections[1::]"
   ]
  },
  {
   "cell_type": "code",
   "execution_count": 51,
   "id": "48c8eb08",
   "metadata": {},
   "outputs": [
    {
     "name": "stdout",
     "output_type": "stream",
     "text": [
      "Buenos Aires, 1992-1994-1996\n",
      "Fiecht, 1310\n",
      "Seefeld, 1384\n",
      "Weiten-Raxendorf, 1411\n",
      "Bois-Seigneur-Isaac, 1405\n",
      "Bruges, 1203\n",
      "Brussels, 1370\n",
      "Herentals, 1412\n",
      "Herkenrode-Hasselt, 1317\n",
      "LiÃ¨ge, 1374\n",
      "Middleburg-Lovanio, 1374\n",
      "Tumaco, 1906\n",
      "Ludbreg, 1411\n",
      "St. Mary of Egypt, IV-V cent.\n",
      "Scete, III-V cent.\n",
      "Avignon, 1433\n",
      "Blanot, 1331\n",
      "Bordeaux, 1822\n",
      "Dijon, 1430\n",
      "Douai, 1254\n",
      "Faverney, 1608\n",
      "La Rochelle, 1461\n",
      "Neuvy Saint Sepulcre, 1257\n",
      "Les Ulmes, 1668\n",
      "Marseille-En-Beauvais, 1533\n",
      "Paris, 1290\n",
      "Pressac, 1643\n",
      "Augsburg, 1194\n",
      "Benningen, 1216\n",
      "Bettbrunn, 1125\n",
      "Erding, 1417\n",
      "Kranenburg, 1280\n",
      "Regensburg, 1255\n",
      "WalldÃ¼rn, 1330\n",
      "Weingarten\n"
     ]
    },
    {
     "ename": "ValueError",
     "evalue": "not enough values to unpack (expected 2, got 1)",
     "output_type": "error",
     "traceback": [
      "\u001b[0;31m---------------------------------------------------------------------------\u001b[0m",
      "\u001b[0;31mValueError\u001b[0m                                Traceback (most recent call last)",
      "\u001b[0;32m/var/folders/b_/c6cvj58d32j2vhw0kk_nqnbw0000gn/T/ipykernel_17974/3475913023.py\u001b[0m in \u001b[0;36m<module>\u001b[0;34m\u001b[0m\n\u001b[1;32m      1\u001b[0m \u001b[0;32mfor\u001b[0m \u001b[0msection\u001b[0m \u001b[0;32min\u001b[0m \u001b[0msections\u001b[0m\u001b[0;34m:\u001b[0m\u001b[0;34m\u001b[0m\u001b[0;34m\u001b[0m\u001b[0m\n\u001b[0;32m----> 2\u001b[0;31m     \u001b[0mget_links\u001b[0m\u001b[0;34m(\u001b[0m\u001b[0msection\u001b[0m\u001b[0;34m)\u001b[0m\u001b[0;34m\u001b[0m\u001b[0;34m\u001b[0m\u001b[0m\n\u001b[0m",
      "\u001b[0;32m/var/folders/b_/c6cvj58d32j2vhw0kk_nqnbw0000gn/T/ipykernel_17974/2690905676.py\u001b[0m in \u001b[0;36mget_links\u001b[0;34m(section)\u001b[0m\n\u001b[1;32m     18\u001b[0m     \u001b[0;32mfor\u001b[0m \u001b[0mlink\u001b[0m \u001b[0;32min\u001b[0m \u001b[0msection\u001b[0m\u001b[0;34m.\u001b[0m\u001b[0mfind_all\u001b[0m\u001b[0;34m(\u001b[0m\u001b[0;34m'a'\u001b[0m\u001b[0;34m,\u001b[0m\u001b[0;34m{\u001b[0m\u001b[0;34m'class'\u001b[0m\u001b[0;34m:\u001b[0m\u001b[0;34m'ac'\u001b[0m\u001b[0;34m}\u001b[0m\u001b[0;34m)\u001b[0m\u001b[0;34m:\u001b[0m\u001b[0;34m\u001b[0m\u001b[0;34m\u001b[0m\u001b[0m\n\u001b[1;32m     19\u001b[0m         \u001b[0mprint\u001b[0m\u001b[0;34m(\u001b[0m\u001b[0mlink\u001b[0m\u001b[0;34m.\u001b[0m\u001b[0mtext\u001b[0m\u001b[0;34m)\u001b[0m\u001b[0;34m\u001b[0m\u001b[0;34m\u001b[0m\u001b[0m\n\u001b[0;32m---> 20\u001b[0;31m         \u001b[0mcity\u001b[0m\u001b[0;34m,\u001b[0m \u001b[0mdate\u001b[0m \u001b[0;34m=\u001b[0m \u001b[0mlink\u001b[0m\u001b[0;34m.\u001b[0m\u001b[0mtext\u001b[0m\u001b[0;34m.\u001b[0m\u001b[0msplit\u001b[0m\u001b[0;34m(\u001b[0m\u001b[0;34m', '\u001b[0m\u001b[0;34m)\u001b[0m\u001b[0;34m\u001b[0m\u001b[0;34m\u001b[0m\u001b[0m\n\u001b[0m\u001b[1;32m     21\u001b[0m         \u001b[0mdata\u001b[0m\u001b[0;34m[\u001b[0m\u001b[0mcountry\u001b[0m\u001b[0;34m]\u001b[0m\u001b[0;34m[\u001b[0m\u001b[0;34m'url'\u001b[0m\u001b[0;34m]\u001b[0m \u001b[0;34m=\u001b[0m \u001b[0;34m\"http://www.miracolieucaristici.org/en/Liste/\"\u001b[0m\u001b[0;34m+\u001b[0m\u001b[0mlink\u001b[0m\u001b[0;34m.\u001b[0m\u001b[0mget\u001b[0m\u001b[0;34m(\u001b[0m\u001b[0;34m'href'\u001b[0m\u001b[0;34m)\u001b[0m\u001b[0;34m\u001b[0m\u001b[0;34m\u001b[0m\u001b[0m\n\u001b[1;32m     22\u001b[0m         \u001b[0mdata\u001b[0m\u001b[0;34m[\u001b[0m\u001b[0mcountry\u001b[0m\u001b[0;34m]\u001b[0m\u001b[0;34m[\u001b[0m\u001b[0;34m'city'\u001b[0m\u001b[0;34m]\u001b[0m \u001b[0;34m=\u001b[0m \u001b[0mcity\u001b[0m\u001b[0;34m\u001b[0m\u001b[0;34m\u001b[0m\u001b[0m\n",
      "\u001b[0;31mValueError\u001b[0m: not enough values to unpack (expected 2, got 1)"
     ]
    }
   ],
   "source": [
    "for section in sections:\n",
    "    get_links(section)"
   ]
  }
 ],
 "metadata": {
  "kernelspec": {
   "display_name": "Python 3 (ipykernel)",
   "language": "python",
   "name": "python3"
  },
  "language_info": {
   "codemirror_mode": {
    "name": "ipython",
    "version": 3
   },
   "file_extension": ".py",
   "mimetype": "text/x-python",
   "name": "python",
   "nbconvert_exporter": "python",
   "pygments_lexer": "ipython3",
   "version": "3.9.10"
  }
 },
 "nbformat": 4,
 "nbformat_minor": 5
}
